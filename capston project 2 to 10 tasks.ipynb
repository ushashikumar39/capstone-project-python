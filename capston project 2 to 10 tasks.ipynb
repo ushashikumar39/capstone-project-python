{
 "cells": [
  {
   "cell_type": "code",
   "execution_count": 1,
   "id": "30101882-13d1-46db-88f3-92aa2af4c6a6",
   "metadata": {},
   "outputs": [],
   "source": [
    "import pandas as pd\n",
    "import numpy as np\n"
   ]
  },
  {
   "cell_type": "code",
   "execution_count": null,
   "id": "2f2525af-fd83-432a-b4cc-48ec2c96936b",
   "metadata": {},
   "outputs": [],
   "source": [
    "#tast---2    The cost column in the dataframe “Project” has some missing values. Your task is to \n",
    "#compute these missing values. Replace the missing values by running average. You \n",
    "#should use the “For” loop for this task."
   ]
  },
  {
   "cell_type": "code",
   "execution_count": 20,
   "id": "5362091f-bcba-4cf4-8cd0-258ec0dffb95",
   "metadata": {},
   "outputs": [
    {
     "name": "stdout",
     "output_type": "stream",
     "text": [
      "      ID     Project       Cost    Status\n",
      "0   A001   Project 1  1002000.0  Finished\n",
      "1   A002   Project 2  2000000.0   Ongoing\n",
      "2   A003   Project 3  4500000.0  Finished\n",
      "3   A004   Project 4  5500000.0   Ongoing\n",
      "4   A005   Project 5        NaN  Finished\n",
      "5   A002   Project 6   680000.0    Failed\n",
      "6   A005   Project 7   400000.0  Finished\n",
      "7   A003   Project 8   350000.0    Failed\n",
      "8   A001   Project 9        NaN   Ongoing\n",
      "9   A003  Project 10   300000.0  Finished\n",
      "10  A001  Project 11  2000000.0    Failed\n",
      "11  A004  Project 12  1000000.0   Ongoing\n",
      "12  A004  Project 13  3000000.0  Finished\n",
      "13  A005  Project 14   200000.0  Finished\n"
     ]
    }
   ],
   "source": [
    "df = pd.read_csv(\"project_data.csv\")\n",
    "print(df)"
   ]
  },
  {
   "cell_type": "code",
   "execution_count": 25,
   "id": "74dc4990-3168-4feb-9c65-02c625ffbf6b",
   "metadata": {},
   "outputs": [],
   "source": [
    "costs = df['Cost'].tolist()\n",
    "running_sum = 0\n",
    "count = 0\n",
    "for i in range(len(costs)):\n",
    "    if np.isnan(costs[i]):\n",
    "        # Used running average for missing value\n",
    "        avg = running_sum / count if count > 0 else 0\n",
    "        costs[i] = avg\n",
    "    running_sum += costs[i]\n",
    "    count += 1"
   ]
  },
  {
   "cell_type": "code",
   "execution_count": 26,
   "id": "0daf021c-cd19-42cc-b4f9-402ab89d836b",
   "metadata": {},
   "outputs": [],
   "source": [
    "\n",
    "df['Cost'] = costs\n"
   ]
  },
  {
   "cell_type": "code",
   "execution_count": 27,
   "id": "c06b5b07-64ab-43df-8bc6-47db5babfffe",
   "metadata": {},
   "outputs": [
    {
     "name": "stdout",
     "output_type": "stream",
     "text": [
      "===== Project DataFrame =====\n",
      "\n",
      "| ID   | Project    |             Cost | Status   |\n",
      "|:-----|:-----------|-----------------:|:---------|\n",
      "| A001 | Project 1  |      1.002e+06   | Finished |\n",
      "| A002 | Project 2  |      2e+06       | Ongoing  |\n",
      "| A003 | Project 3  |      4.5e+06     | Finished |\n",
      "| A004 | Project 4  |      5.5e+06     | Ongoing  |\n",
      "| A005 | Project 5  |      3.2505e+06  | Finished |\n",
      "| A002 | Project 6  | 680000           | Failed   |\n",
      "| A005 | Project 7  | 400000           | Finished |\n",
      "| A003 | Project 8  | 350000           | Failed   |\n",
      "| A001 | Project 9  |      2.21031e+06 | Ongoing  |\n",
      "| A003 | Project 10 | 300000           | Finished |\n",
      "| A001 | Project 11 |      2e+06       | Failed   |\n",
      "| A004 | Project 12 |      1e+06       | Ongoing  |\n",
      "| A004 | Project 13 |      3e+06       | Finished |\n",
      "| A005 | Project 14 | 200000           | Finished |\n"
     ]
    }
   ],
   "source": [
    "print(\"===== Project DataFrame =====\\n\")\n",
    "print(df.to_markdown(index=False))\n"
   ]
  },
  {
   "cell_type": "code",
   "execution_count": 28,
   "id": "1f7db72c-aed5-4eb1-9088-8f4664dbc370",
   "metadata": {
    "scrolled": true
   },
   "outputs": [
    {
     "name": "stdout",
     "output_type": "stream",
     "text": [
      "===== Project DataFrame =====\n",
      "\n",
      "      ID     Project      Cost    Status\n",
      "0   A001   Project 1 1,002,000  Finished\n",
      "1   A002   Project 2 2,000,000   Ongoing\n",
      "2   A003   Project 3 4,500,000  Finished\n",
      "3   A004   Project 4 5,500,000   Ongoing\n",
      "4   A005   Project 5 3,250,500  Finished\n",
      "5   A002   Project 6   680,000    Failed\n",
      "6   A005   Project 7   400,000  Finished\n",
      "7   A003   Project 8   350,000    Failed\n",
      "8   A001   Project 9 2,210,312   Ongoing\n",
      "9   A003  Project 10   300,000  Finished\n",
      "10  A001  Project 11 2,000,000    Failed\n",
      "11  A004  Project 12 1,000,000   Ongoing\n",
      "12  A004  Project 13 3,000,000  Finished\n",
      "13  A005  Project 14   200,000  Finished\n"
     ]
    }
   ],
   "source": [
    "\n",
    "pd.set_option('display.float_format', '{:,.0f}'.format)\n",
    "\n",
    "print(\"===== Project DataFrame =====\\n\")\n",
    "print(df) #tast 2 data frame after changes\n"
   ]
  },
  {
   "cell_type": "code",
   "execution_count": 3,
   "id": "a8946f5d-a628-4ead-8051-e24b9fd97382",
   "metadata": {},
   "outputs": [],
   "source": [
    "import pandas as pd\n",
    "import numpy as np"
   ]
  },
  {
   "cell_type": "code",
   "execution_count": null,
   "id": "050142e2-d30e-401b-91a6-fe5735204bd6",
   "metadata": {},
   "outputs": [],
   "source": [
    "#Task 3 ---Split the name column in the Employee dataframe into two new columns “First Name”, \n",
    "#and “Last Name” and remove the older “name” column."
   ]
  },
  {
   "cell_type": "code",
   "execution_count": 18,
   "id": "b1b4de36-ed90-4b3d-826c-b7c63b97f4b4",
   "metadata": {},
   "outputs": [
    {
     "name": "stdout",
     "output_type": "stream",
     "text": [
      "Current working directory: C:\\Users\\Kumbala Naresh\\Downloads\\capstone\n"
     ]
    }
   ],
   "source": [
    "import os\n",
    "cwd = os.getcwd()\n",
    "print(\"Current working directory:\", cwd)"
   ]
  },
  {
   "cell_type": "code",
   "execution_count": 19,
   "id": "fdde839d-3133-43f0-8fc2-14874beddb4d",
   "metadata": {},
   "outputs": [],
   "source": [
    "os.chdir(r\"C:\\Users\\Kumbala Naresh\\Downloads\\tables\") "
   ]
  },
  {
   "cell_type": "code",
   "execution_count": 20,
   "id": "75a74784-c72a-40ff-a9cd-fcb890feb7e8",
   "metadata": {},
   "outputs": [
    {
     "name": "stdout",
     "output_type": "stream",
     "text": [
      "C:\\Users\\Kumbala Naresh\\Downloads\\tables\n"
     ]
    }
   ],
   "source": [
    "print(os.getcwd())"
   ]
  },
  {
   "cell_type": "code",
   "execution_count": 22,
   "id": "45f75424-a27e-4588-bc3e-a92ff5784a1d",
   "metadata": {},
   "outputs": [
    {
     "name": "stdout",
     "output_type": "stream",
     "text": [
      "     ID             Name Gender     City  Age\n",
      "0  A001       John Alter      M    Paris   25\n",
      "1  A002  Alice Luxumberg      F   London   27\n",
      "2  A003    Tom Sabestine      M   Berlin   29\n",
      "3  A004       Nina Adgra      F  Newyork   31\n",
      "4  A005        Amy Johny      F   Madrid   30\n"
     ]
    }
   ],
   "source": [
    "Employee = pd.read_csv(\"Employee DataFrame.csv\")\n",
    "print(Employee)"
   ]
  },
  {
   "cell_type": "code",
   "execution_count": 23,
   "id": "a55862d1-7014-4645-836b-7debc10e4884",
   "metadata": {},
   "outputs": [
    {
     "name": "stdout",
     "output_type": "stream",
     "text": [
      "     ID             Name Gender     City  Age First Name  Last Name\n",
      "0  A001       John Alter      M    Paris   25       John      Alter\n",
      "1  A002  Alice Luxumberg      F   London   27      Alice  Luxumberg\n",
      "2  A003    Tom Sabestine      M   Berlin   29        Tom  Sabestine\n",
      "3  A004       Nina Adgra      F  Newyork   31       Nina      Adgra\n",
      "4  A005        Amy Johny      F   Madrid   30        Amy      Johny\n"
     ]
    }
   ],
   "source": [
    "# Split the 'Name' column into 'First Name' and 'Last Name'\n",
    "Employee[['First Name', 'Last Name']] = Employee['Name'].str.split(' ', n=1, expand=True)\n",
    "print(Employee)"
   ]
  },
  {
   "cell_type": "code",
   "execution_count": 24,
   "id": "2e3735ec-a828-455a-b137-eb5cc6db74eb",
   "metadata": {
    "scrolled": true
   },
   "outputs": [
    {
     "name": "stdout",
     "output_type": "stream",
     "text": [
      "     ID Gender     City  Age First Name  Last Name\n",
      "0  A001      M    Paris   25       John      Alter\n",
      "1  A002      F   London   27      Alice  Luxumberg\n",
      "2  A003      M   Berlin   29        Tom  Sabestine\n",
      "3  A004      F  Newyork   31       Nina      Adgra\n",
      "4  A005      F   Madrid   30        Amy      Johny\n"
     ]
    }
   ],
   "source": [
    "# Removed the original 'Name' column\n",
    "Employee.drop('Name', axis=1, inplace=True)\n",
    "print(Employee)"
   ]
  },
  {
   "cell_type": "code",
   "execution_count": null,
   "id": "c750164d-0efc-49f9-a431-226a63d1e0db",
   "metadata": {},
   "outputs": [],
   "source": []
  },
  {
   "cell_type": "code",
   "execution_count": null,
   "id": "a8589139-bf95-4328-977c-335c39974722",
   "metadata": {},
   "outputs": [],
   "source": [
    "#  task---4 Join all three dataframes in one single dataframe. Name it “Final”"
   ]
  },
  {
   "cell_type": "code",
   "execution_count": 26,
   "id": "d8d78a22-5bfe-403e-bbdc-e3fb3086fe20",
   "metadata": {},
   "outputs": [
    {
     "name": "stdout",
     "output_type": "stream",
     "text": [
      "     ID  Designation level\n",
      "0  A001                  2\n",
      "1  A002                  2\n",
      "2  A003                  3\n",
      "3  A004                  2\n",
      "4  A005                  3\n"
     ]
    }
   ],
   "source": [
    "df3=pd.read_csv(\"seniority_levels.csv\")   #getting seniority Level DataFrameEmployee dataframe\n",
    "print(df3)"
   ]
  },
  {
   "cell_type": "code",
   "execution_count": 40,
   "id": "fc7aa3b7-1131-4533-80b8-d2bcb43ae8a1",
   "metadata": {},
   "outputs": [
    {
     "name": "stdout",
     "output_type": "stream",
     "text": [
      "===== Project DataFrame =====\n",
      "\n",
      "      ID     Project      Cost    Status\n",
      "0   A001   Project 1 1,002,000  Finished\n",
      "1   A002   Project 2 2,000,000   Ongoing\n",
      "2   A003   Project 3 4,500,000  Finished\n",
      "3   A004   Project 4 5,500,000   Ongoing\n",
      "4   A005   Project 5 3,250,500  Finished\n",
      "5   A002   Project 6   680,000    Failed\n",
      "6   A005   Project 7   400,000  Finished\n",
      "7   A003   Project 8   350,000    Failed\n",
      "8   A001   Project 9 2,210,312   Ongoing\n",
      "9   A003  Project 10   300,000  Finished\n",
      "10  A001  Project 11 2,000,000    Failed\n",
      "11  A004  Project 12 1,000,000   Ongoing\n",
      "12  A004  Project 13 3,000,000  Finished\n",
      "13  A005  Project 14   200,000  Finished\n"
     ]
    }
   ],
   "source": [
    "pd.set_option('display.float_format', '{:,.0f}'.format)\n",
    "\n",
    "print(\"===== Project DataFrame =====\\n\")\n",
    "print(df)"
   ]
  },
  {
   "cell_type": "code",
   "execution_count": 41,
   "id": "69c164b2-9d3b-4b87-947a-449c1d03799c",
   "metadata": {},
   "outputs": [],
   "source": [
    "df_twotables = pd.merge(Employee, df3, on=\"ID\") #merging employee and seniority data frame"
   ]
  },
  {
   "cell_type": "code",
   "execution_count": 42,
   "id": "0b586802-8f95-4de9-b14f-14dc1bec3f49",
   "metadata": {},
   "outputs": [],
   "source": [
    "Final = pd.merge(df,df_twotables,on=\"ID\")"
   ]
  },
  {
   "cell_type": "code",
   "execution_count": 43,
   "id": "8c59ff19-3567-408c-9c6b-27abe73ce639",
   "metadata": {},
   "outputs": [
    {
     "name": "stdout",
     "output_type": "stream",
     "text": [
      "      ID     Project      Cost    Status Gender     City  Age First Name  \\\n",
      "0   A001   Project 1 1,002,000  Finished      M    Paris   25       John   \n",
      "1   A002   Project 2 2,000,000   Ongoing      F   London   27      Alice   \n",
      "2   A003   Project 3 4,500,000  Finished      M   Berlin   29        Tom   \n",
      "3   A004   Project 4 5,500,000   Ongoing      F  Newyork   31       Nina   \n",
      "4   A005   Project 5 3,250,500  Finished      F   Madrid   30        Amy   \n",
      "5   A002   Project 6   680,000    Failed      F   London   27      Alice   \n",
      "6   A005   Project 7   400,000  Finished      F   Madrid   30        Amy   \n",
      "7   A003   Project 8   350,000    Failed      M   Berlin   29        Tom   \n",
      "8   A001   Project 9 2,210,312   Ongoing      M    Paris   25       John   \n",
      "9   A003  Project 10   300,000  Finished      M   Berlin   29        Tom   \n",
      "10  A001  Project 11 2,000,000    Failed      M    Paris   25       John   \n",
      "11  A004  Project 12 1,000,000   Ongoing      F  Newyork   31       Nina   \n",
      "12  A004  Project 13 3,000,000  Finished      F  Newyork   31       Nina   \n",
      "13  A005  Project 14   200,000  Finished      F   Madrid   30        Amy   \n",
      "\n",
      "    Last Name  Designation level  \n",
      "0       Alter                  2  \n",
      "1   Luxumberg                  2  \n",
      "2   Sabestine                  3  \n",
      "3       Adgra                  2  \n",
      "4       Johny                  3  \n",
      "5   Luxumberg                  2  \n",
      "6       Johny                  3  \n",
      "7   Sabestine                  3  \n",
      "8       Alter                  2  \n",
      "9   Sabestine                  3  \n",
      "10      Alter                  2  \n",
      "11      Adgra                  2  \n",
      "12      Adgra                  2  \n",
      "13      Johny                  3  \n"
     ]
    }
   ],
   "source": [
    "print(Final) #after all tables joining final tabel on ID bases"
   ]
  },
  {
   "cell_type": "code",
   "execution_count": null,
   "id": "b66f43ca-98d5-49db-a388-009503fa7f8f",
   "metadata": {},
   "outputs": [],
   "source": []
  },
  {
   "cell_type": "code",
   "execution_count": null,
   "id": "b3544205-238a-4cbc-9a40-b069a220d1be",
   "metadata": {},
   "outputs": [],
   "source": [
    "#Task--5   Add a new bonus column in the Final dataframe. Give a 5% bonus concerning project \n",
    "#cost only to employees who have finished the projects. "
   ]
  },
  {
   "cell_type": "code",
   "execution_count": 45,
   "id": "35572c5a-868b-4957-8284-f06349788489",
   "metadata": {},
   "outputs": [],
   "source": [
    "Final[\"Bonus\"] = Final.apply(\n",
    "    lambda row: row[\"Cost\"] * 0.05 if row[\"Status\"] == \"Finished\" and pd.notnull(row[\"Cost\"]) else 0,\n",
    "    axis=1\n",
    ")"
   ]
  },
  {
   "cell_type": "code",
   "execution_count": 46,
   "id": "5f1fc3c5-718c-4787-a201-b11588f0efe8",
   "metadata": {},
   "outputs": [
    {
     "name": "stdout",
     "output_type": "stream",
     "text": [
      "      ID     Project      Cost    Status Gender     City  Age First Name  \\\n",
      "0   A001   Project 1 1,002,000  Finished      M    Paris   25       John   \n",
      "1   A002   Project 2 2,000,000   Ongoing      F   London   27      Alice   \n",
      "2   A003   Project 3 4,500,000  Finished      M   Berlin   29        Tom   \n",
      "3   A004   Project 4 5,500,000   Ongoing      F  Newyork   31       Nina   \n",
      "4   A005   Project 5 3,250,500  Finished      F   Madrid   30        Amy   \n",
      "5   A002   Project 6   680,000    Failed      F   London   27      Alice   \n",
      "6   A005   Project 7   400,000  Finished      F   Madrid   30        Amy   \n",
      "7   A003   Project 8   350,000    Failed      M   Berlin   29        Tom   \n",
      "8   A001   Project 9 2,210,312   Ongoing      M    Paris   25       John   \n",
      "9   A003  Project 10   300,000  Finished      M   Berlin   29        Tom   \n",
      "10  A001  Project 11 2,000,000    Failed      M    Paris   25       John   \n",
      "11  A004  Project 12 1,000,000   Ongoing      F  Newyork   31       Nina   \n",
      "12  A004  Project 13 3,000,000  Finished      F  Newyork   31       Nina   \n",
      "13  A005  Project 14   200,000  Finished      F   Madrid   30        Amy   \n",
      "\n",
      "    Last Name  Designation level   Bonus  \n",
      "0       Alter                  2  50,100  \n",
      "1   Luxumberg                  2       0  \n",
      "2   Sabestine                  3 225,000  \n",
      "3       Adgra                  2       0  \n",
      "4       Johny                  3 162,525  \n",
      "5   Luxumberg                  2       0  \n",
      "6       Johny                  3  20,000  \n",
      "7   Sabestine                  3       0  \n",
      "8       Alter                  2       0  \n",
      "9   Sabestine                  3  15,000  \n",
      "10      Alter                  2       0  \n",
      "11      Adgra                  2       0  \n",
      "12      Adgra                  2 150,000  \n",
      "13      Johny                  3  10,000  \n"
     ]
    }
   ],
   "source": [
    "print(Final)"
   ]
  },
  {
   "cell_type": "code",
   "execution_count": null,
   "id": "93ef91e5-9ce7-4b59-bb70-caf2877e67e6",
   "metadata": {},
   "outputs": [],
   "source": []
  },
  {
   "cell_type": "code",
   "execution_count": null,
   "id": "c8c4a520-6cc6-428a-b9e5-15567d8a1c48",
   "metadata": {},
   "outputs": [],
   "source": [
    "# Task-- 6     Demote the designation level by 1, whose projects have status “fail”. Delete the \n",
    "#employees record whose designation level is above 4. "
   ]
  },
  {
   "cell_type": "code",
   "execution_count": 47,
   "id": "4a9869b2-2e4e-4650-a823-d363e0bc2a20",
   "metadata": {},
   "outputs": [],
   "source": [
    "# Decrease designation level by 1 for failed projects\n",
    "Final.loc[Final[\"Status\"] == \"Failed\", \"Designation level\"] -= 1\n"
   ]
  },
  {
   "cell_type": "code",
   "execution_count": 48,
   "id": "0b6156d4-deba-4d1e-9bde-ac98c4efa4cf",
   "metadata": {},
   "outputs": [
    {
     "name": "stdout",
     "output_type": "stream",
     "text": [
      "      ID     Project      Cost    Status Gender     City  Age First Name  \\\n",
      "0   A001   Project 1 1,002,000  Finished      M    Paris   25       John   \n",
      "1   A002   Project 2 2,000,000   Ongoing      F   London   27      Alice   \n",
      "2   A003   Project 3 4,500,000  Finished      M   Berlin   29        Tom   \n",
      "3   A004   Project 4 5,500,000   Ongoing      F  Newyork   31       Nina   \n",
      "4   A005   Project 5 3,250,500  Finished      F   Madrid   30        Amy   \n",
      "5   A002   Project 6   680,000    Failed      F   London   27      Alice   \n",
      "6   A005   Project 7   400,000  Finished      F   Madrid   30        Amy   \n",
      "7   A003   Project 8   350,000    Failed      M   Berlin   29        Tom   \n",
      "8   A001   Project 9 2,210,312   Ongoing      M    Paris   25       John   \n",
      "9   A003  Project 10   300,000  Finished      M   Berlin   29        Tom   \n",
      "10  A001  Project 11 2,000,000    Failed      M    Paris   25       John   \n",
      "11  A004  Project 12 1,000,000   Ongoing      F  Newyork   31       Nina   \n",
      "12  A004  Project 13 3,000,000  Finished      F  Newyork   31       Nina   \n",
      "13  A005  Project 14   200,000  Finished      F   Madrid   30        Amy   \n",
      "\n",
      "    Last Name  Designation level   Bonus  \n",
      "0       Alter                  2  50,100  \n",
      "1   Luxumberg                  2       0  \n",
      "2   Sabestine                  3 225,000  \n",
      "3       Adgra                  2       0  \n",
      "4       Johny                  3 162,525  \n",
      "5   Luxumberg                  1       0  \n",
      "6       Johny                  3  20,000  \n",
      "7   Sabestine                  2       0  \n",
      "8       Alter                  2       0  \n",
      "9   Sabestine                  3  15,000  \n",
      "10      Alter                  1       0  \n",
      "11      Adgra                  2       0  \n",
      "12      Adgra                  2 150,000  \n",
      "13      Johny                  3  10,000  \n"
     ]
    }
   ],
   "source": [
    "print(Final)"
   ]
  },
  {
   "cell_type": "code",
   "execution_count": 49,
   "id": "a4e80f79-4037-4043-a5f1-bc1952682861",
   "metadata": {},
   "outputs": [],
   "source": [
    "#Remove employees with designation level above 4\n",
    "Final = Final[Final[\"Designation level\"] <= 4]\n"
   ]
  },
  {
   "cell_type": "code",
   "execution_count": 50,
   "id": "5e498c91-4353-4280-9bdb-5aee15396ceb",
   "metadata": {},
   "outputs": [
    {
     "name": "stdout",
     "output_type": "stream",
     "text": [
      "      ID     Project      Cost    Status Gender     City  Age First Name  \\\n",
      "0   A001   Project 1 1,002,000  Finished      M    Paris   25       John   \n",
      "1   A002   Project 2 2,000,000   Ongoing      F   London   27      Alice   \n",
      "2   A003   Project 3 4,500,000  Finished      M   Berlin   29        Tom   \n",
      "3   A004   Project 4 5,500,000   Ongoing      F  Newyork   31       Nina   \n",
      "4   A005   Project 5 3,250,500  Finished      F   Madrid   30        Amy   \n",
      "5   A002   Project 6   680,000    Failed      F   London   27      Alice   \n",
      "6   A005   Project 7   400,000  Finished      F   Madrid   30        Amy   \n",
      "7   A003   Project 8   350,000    Failed      M   Berlin   29        Tom   \n",
      "8   A001   Project 9 2,210,312   Ongoing      M    Paris   25       John   \n",
      "9   A003  Project 10   300,000  Finished      M   Berlin   29        Tom   \n",
      "10  A001  Project 11 2,000,000    Failed      M    Paris   25       John   \n",
      "11  A004  Project 12 1,000,000   Ongoing      F  Newyork   31       Nina   \n",
      "12  A004  Project 13 3,000,000  Finished      F  Newyork   31       Nina   \n",
      "13  A005  Project 14   200,000  Finished      F   Madrid   30        Amy   \n",
      "\n",
      "    Last Name  Designation level   Bonus  \n",
      "0       Alter                  2  50,100  \n",
      "1   Luxumberg                  2       0  \n",
      "2   Sabestine                  3 225,000  \n",
      "3       Adgra                  2       0  \n",
      "4       Johny                  3 162,525  \n",
      "5   Luxumberg                  1       0  \n",
      "6       Johny                  3  20,000  \n",
      "7   Sabestine                  2       0  \n",
      "8       Alter                  2       0  \n",
      "9   Sabestine                  3  15,000  \n",
      "10      Alter                  1       0  \n",
      "11      Adgra                  2       0  \n",
      "12      Adgra                  2 150,000  \n",
      "13      Johny                  3  10,000  \n"
     ]
    }
   ],
   "source": [
    "print(Final)"
   ]
  },
  {
   "cell_type": "code",
   "execution_count": null,
   "id": "4c95b17a-4790-4d2f-844d-f9498774eb5f",
   "metadata": {},
   "outputs": [],
   "source": []
  },
  {
   "cell_type": "code",
   "execution_count": null,
   "id": "135bdc84-f68e-425c-bc6d-8df8e3fd3efb",
   "metadata": {},
   "outputs": [],
   "source": [
    "# Task--7   Add “Mr.” and “Mrs.” to the first name column and drop the gender column. "
   ]
  },
  {
   "cell_type": "code",
   "execution_count": 53,
   "id": "25a5e15c-4d0b-4de6-b4e7-361d24feaf61",
   "metadata": {},
   "outputs": [],
   "source": [
    "# Add prefix based on gender\n",
    "Final[\"First Name\"] = Final.apply(\n",
    "    lambda row: f\"Mr. {row['First Name']}\" if row[\"Gender\"] == \"M\" else f\"Mrs. {row['First Name']}\",\n",
    "    axis=1\n",
    ")"
   ]
  },
  {
   "cell_type": "code",
   "execution_count": 54,
   "id": "b065cba8-177f-4737-b98b-b1466284110b",
   "metadata": {},
   "outputs": [
    {
     "name": "stdout",
     "output_type": "stream",
     "text": [
      "      ID     Project      Cost    Status Gender     City  Age  First Name  \\\n",
      "0   A001   Project 1 1,002,000  Finished      M    Paris   25    Mr. John   \n",
      "1   A002   Project 2 2,000,000   Ongoing      F   London   27  Mrs. Alice   \n",
      "2   A003   Project 3 4,500,000  Finished      M   Berlin   29     Mr. Tom   \n",
      "3   A004   Project 4 5,500,000   Ongoing      F  Newyork   31   Mrs. Nina   \n",
      "4   A005   Project 5 3,250,500  Finished      F   Madrid   30    Mrs. Amy   \n",
      "5   A002   Project 6   680,000    Failed      F   London   27  Mrs. Alice   \n",
      "6   A005   Project 7   400,000  Finished      F   Madrid   30    Mrs. Amy   \n",
      "7   A003   Project 8   350,000    Failed      M   Berlin   29     Mr. Tom   \n",
      "8   A001   Project 9 2,210,312   Ongoing      M    Paris   25    Mr. John   \n",
      "9   A003  Project 10   300,000  Finished      M   Berlin   29     Mr. Tom   \n",
      "10  A001  Project 11 2,000,000    Failed      M    Paris   25    Mr. John   \n",
      "11  A004  Project 12 1,000,000   Ongoing      F  Newyork   31   Mrs. Nina   \n",
      "12  A004  Project 13 3,000,000  Finished      F  Newyork   31   Mrs. Nina   \n",
      "13  A005  Project 14   200,000  Finished      F   Madrid   30    Mrs. Amy   \n",
      "\n",
      "    Last Name  Designation level   Bonus  \n",
      "0       Alter                  2  50,100  \n",
      "1   Luxumberg                  2       0  \n",
      "2   Sabestine                  3 225,000  \n",
      "3       Adgra                  2       0  \n",
      "4       Johny                  3 162,525  \n",
      "5   Luxumberg                  1       0  \n",
      "6       Johny                  3  20,000  \n",
      "7   Sabestine                  2       0  \n",
      "8       Alter                  2       0  \n",
      "9   Sabestine                  3  15,000  \n",
      "10      Alter                  1       0  \n",
      "11      Adgra                  2       0  \n",
      "12      Adgra                  2 150,000  \n",
      "13      Johny                  3  10,000  \n"
     ]
    }
   ],
   "source": [
    "print(Final)"
   ]
  },
  {
   "cell_type": "code",
   "execution_count": 55,
   "id": "192282f3-a7bb-4261-8a36-75b5961908f4",
   "metadata": {},
   "outputs": [],
   "source": [
    "# Drop the Gender column\n",
    "Final.drop(columns=[\"Gender\"], inplace=True)\n"
   ]
  },
  {
   "cell_type": "code",
   "execution_count": 56,
   "id": "7dc65eef-db82-4d02-a3cf-7a7cef1b2eeb",
   "metadata": {},
   "outputs": [
    {
     "name": "stdout",
     "output_type": "stream",
     "text": [
      "      ID     Project      Cost    Status     City  Age  First Name  Last Name  \\\n",
      "0   A001   Project 1 1,002,000  Finished    Paris   25    Mr. John      Alter   \n",
      "1   A002   Project 2 2,000,000   Ongoing   London   27  Mrs. Alice  Luxumberg   \n",
      "2   A003   Project 3 4,500,000  Finished   Berlin   29     Mr. Tom  Sabestine   \n",
      "3   A004   Project 4 5,500,000   Ongoing  Newyork   31   Mrs. Nina      Adgra   \n",
      "4   A005   Project 5 3,250,500  Finished   Madrid   30    Mrs. Amy      Johny   \n",
      "5   A002   Project 6   680,000    Failed   London   27  Mrs. Alice  Luxumberg   \n",
      "6   A005   Project 7   400,000  Finished   Madrid   30    Mrs. Amy      Johny   \n",
      "7   A003   Project 8   350,000    Failed   Berlin   29     Mr. Tom  Sabestine   \n",
      "8   A001   Project 9 2,210,312   Ongoing    Paris   25    Mr. John      Alter   \n",
      "9   A003  Project 10   300,000  Finished   Berlin   29     Mr. Tom  Sabestine   \n",
      "10  A001  Project 11 2,000,000    Failed    Paris   25    Mr. John      Alter   \n",
      "11  A004  Project 12 1,000,000   Ongoing  Newyork   31   Mrs. Nina      Adgra   \n",
      "12  A004  Project 13 3,000,000  Finished  Newyork   31   Mrs. Nina      Adgra   \n",
      "13  A005  Project 14   200,000  Finished   Madrid   30    Mrs. Amy      Johny   \n",
      "\n",
      "    Designation level   Bonus  \n",
      "0                   2  50,100  \n",
      "1                   2       0  \n",
      "2                   3 225,000  \n",
      "3                   2       0  \n",
      "4                   3 162,525  \n",
      "5                   1       0  \n",
      "6                   3  20,000  \n",
      "7                   2       0  \n",
      "8                   2       0  \n",
      "9                   3  15,000  \n",
      "10                  1       0  \n",
      "11                  2       0  \n",
      "12                  2 150,000  \n",
      "13                  3  10,000  \n"
     ]
    }
   ],
   "source": [
    "print(Final)"
   ]
  },
  {
   "cell_type": "code",
   "execution_count": null,
   "id": "55f1f355-d12e-4e82-944c-5ae173ba0a2c",
   "metadata": {},
   "outputs": [],
   "source": []
  },
  {
   "cell_type": "code",
   "execution_count": null,
   "id": "c587549f-c571-48d2-a8a1-dd257f4d5509",
   "metadata": {},
   "outputs": [],
   "source": [
    "#Task---8  Promote designation level by 1 for the employees whose age is more than 29 years using \n",
    "#IF condition. "
   ]
  },
  {
   "cell_type": "code",
   "execution_count": 64,
   "id": "41826133-8355-424e-a34b-3013436243e0",
   "metadata": {},
   "outputs": [],
   "source": [
    "# Promoted designation level by 1 for employees older than 29\n",
    "Final[\"Designation level Promoted\"] = Final.apply(\n",
    "    lambda row: row[\"Designation level\"] + 1 if row[\"Age\"] > 29 else row[\"Designation level\"],\n",
    "    axis=1\n",
    ")"
   ]
  },
  {
   "cell_type": "code",
   "execution_count": 65,
   "id": "519ad0d2-b721-48c3-9ec1-0f64b4c8b9a5",
   "metadata": {},
   "outputs": [
    {
     "name": "stdout",
     "output_type": "stream",
     "text": [
      "      ID     Project      Cost    Status     City  Age  First Name  Last Name  \\\n",
      "0   A001   Project 1 1,002,000  Finished    Paris   25    Mr. John      Alter   \n",
      "1   A002   Project 2 2,000,000   Ongoing   London   27  Mrs. Alice  Luxumberg   \n",
      "2   A003   Project 3 4,500,000  Finished   Berlin   29     Mr. Tom  Sabestine   \n",
      "3   A004   Project 4 5,500,000   Ongoing  Newyork   31   Mrs. Nina      Adgra   \n",
      "4   A005   Project 5 3,250,500  Finished   Madrid   30    Mrs. Amy      Johny   \n",
      "5   A002   Project 6   680,000    Failed   London   27  Mrs. Alice  Luxumberg   \n",
      "6   A005   Project 7   400,000  Finished   Madrid   30    Mrs. Amy      Johny   \n",
      "7   A003   Project 8   350,000    Failed   Berlin   29     Mr. Tom  Sabestine   \n",
      "8   A001   Project 9 2,210,312   Ongoing    Paris   25    Mr. John      Alter   \n",
      "9   A003  Project 10   300,000  Finished   Berlin   29     Mr. Tom  Sabestine   \n",
      "10  A001  Project 11 2,000,000    Failed    Paris   25    Mr. John      Alter   \n",
      "11  A004  Project 12 1,000,000   Ongoing  Newyork   31   Mrs. Nina      Adgra   \n",
      "12  A004  Project 13 3,000,000  Finished  Newyork   31   Mrs. Nina      Adgra   \n",
      "13  A005  Project 14   200,000  Finished   Madrid   30    Mrs. Amy      Johny   \n",
      "\n",
      "    Designation level   Bonus  Designation level1  Designation level Promoted  \n",
      "0                   2  50,100                   2                           2  \n",
      "1                   2       0                   2                           2  \n",
      "2                   3 225,000                   3                           3  \n",
      "3                   3       0                   4                           4  \n",
      "4                   4 162,525                   5                           5  \n",
      "5                   1       0                   1                           1  \n",
      "6                   4  20,000                   5                           5  \n",
      "7                   2       0                   2                           2  \n",
      "8                   2       0                   2                           2  \n",
      "9                   3  15,000                   3                           3  \n",
      "10                  1       0                   1                           1  \n",
      "11                  3       0                   4                           4  \n",
      "12                  3 150,000                   4                           4  \n",
      "13                  4  10,000                   5                           5  \n"
     ]
    }
   ],
   "source": [
    "print(Final)"
   ]
  },
  {
   "cell_type": "code",
   "execution_count": 66,
   "id": "4e7c4086-6fcd-4116-ab91-503b254da63c",
   "metadata": {},
   "outputs": [],
   "source": [
    "Final.drop(columns=[\"Designation level1\"], inplace=True)"
   ]
  },
  {
   "cell_type": "code",
   "execution_count": 67,
   "id": "0a15b849-aab6-4afc-bfbe-fc526809e9c1",
   "metadata": {},
   "outputs": [
    {
     "name": "stdout",
     "output_type": "stream",
     "text": [
      "      ID     Project      Cost    Status     City  Age  First Name  Last Name  \\\n",
      "0   A001   Project 1 1,002,000  Finished    Paris   25    Mr. John      Alter   \n",
      "1   A002   Project 2 2,000,000   Ongoing   London   27  Mrs. Alice  Luxumberg   \n",
      "2   A003   Project 3 4,500,000  Finished   Berlin   29     Mr. Tom  Sabestine   \n",
      "3   A004   Project 4 5,500,000   Ongoing  Newyork   31   Mrs. Nina      Adgra   \n",
      "4   A005   Project 5 3,250,500  Finished   Madrid   30    Mrs. Amy      Johny   \n",
      "5   A002   Project 6   680,000    Failed   London   27  Mrs. Alice  Luxumberg   \n",
      "6   A005   Project 7   400,000  Finished   Madrid   30    Mrs. Amy      Johny   \n",
      "7   A003   Project 8   350,000    Failed   Berlin   29     Mr. Tom  Sabestine   \n",
      "8   A001   Project 9 2,210,312   Ongoing    Paris   25    Mr. John      Alter   \n",
      "9   A003  Project 10   300,000  Finished   Berlin   29     Mr. Tom  Sabestine   \n",
      "10  A001  Project 11 2,000,000    Failed    Paris   25    Mr. John      Alter   \n",
      "11  A004  Project 12 1,000,000   Ongoing  Newyork   31   Mrs. Nina      Adgra   \n",
      "12  A004  Project 13 3,000,000  Finished  Newyork   31   Mrs. Nina      Adgra   \n",
      "13  A005  Project 14   200,000  Finished   Madrid   30    Mrs. Amy      Johny   \n",
      "\n",
      "    Designation level   Bonus  Designation level Promoted  \n",
      "0                   2  50,100                           2  \n",
      "1                   2       0                           2  \n",
      "2                   3 225,000                           3  \n",
      "3                   3       0                           4  \n",
      "4                   4 162,525                           5  \n",
      "5                   1       0                           1  \n",
      "6                   4  20,000                           5  \n",
      "7                   2       0                           2  \n",
      "8                   2       0                           2  \n",
      "9                   3  15,000                           3  \n",
      "10                  1       0                           1  \n",
      "11                  3       0                           4  \n",
      "12                  3 150,000                           4  \n",
      "13                  4  10,000                           5  \n"
     ]
    }
   ],
   "source": [
    "print(Final)"
   ]
  },
  {
   "cell_type": "code",
   "execution_count": null,
   "id": "e4e4e683-2eb6-46db-9155-f348e51dbdc8",
   "metadata": {},
   "outputs": [],
   "source": []
  },
  {
   "cell_type": "code",
   "execution_count": null,
   "id": "1341ad8c-0526-462c-8965-9c9bb0a40283",
   "metadata": {},
   "outputs": [],
   "source": [
    "#  Task---9   Add the cost of all projects for each Employee and save it in new dataframe \n",
    "#  “TotalProjCost” with three columns ID, First Name, and Total cost "
   ]
  },
  {
   "cell_type": "code",
   "execution_count": 73,
   "id": "d33077e3-0072-4279-815c-2b73f43b3eb2",
   "metadata": {},
   "outputs": [
    {
     "name": "stdout",
     "output_type": "stream",
     "text": [
      "      ID     Project      Cost    Status     City  Age  First Name  Last Name  \\\n",
      "0   A001   Project 1 1,002,000  Finished    Paris   25    Mr. John      Alter   \n",
      "1   A002   Project 2 2,000,000   Ongoing   London   27  Mrs. Alice  Luxumberg   \n",
      "2   A003   Project 3 4,500,000  Finished   Berlin   29     Mr. Tom  Sabestine   \n",
      "3   A004   Project 4 5,500,000   Ongoing  Newyork   31   Mrs. Nina      Adgra   \n",
      "4   A005   Project 5 3,250,500  Finished   Madrid   30    Mrs. Amy      Johny   \n",
      "5   A002   Project 6   680,000    Failed   London   27  Mrs. Alice  Luxumberg   \n",
      "6   A005   Project 7   400,000  Finished   Madrid   30    Mrs. Amy      Johny   \n",
      "7   A003   Project 8   350,000    Failed   Berlin   29     Mr. Tom  Sabestine   \n",
      "8   A001   Project 9 2,210,312   Ongoing    Paris   25    Mr. John      Alter   \n",
      "9   A003  Project 10   300,000  Finished   Berlin   29     Mr. Tom  Sabestine   \n",
      "10  A001  Project 11 2,000,000    Failed    Paris   25    Mr. John      Alter   \n",
      "11  A004  Project 12 1,000,000   Ongoing  Newyork   31   Mrs. Nina      Adgra   \n",
      "12  A004  Project 13 3,000,000  Finished  Newyork   31   Mrs. Nina      Adgra   \n",
      "13  A005  Project 14   200,000  Finished   Madrid   30    Mrs. Amy      Johny   \n",
      "\n",
      "    Designation level   Bonus  Designation level Promoted  \n",
      "0                   2  50,100                           2  \n",
      "1                   2       0                           2  \n",
      "2                   3 225,000                           3  \n",
      "3                   3       0                           4  \n",
      "4                   4 162,525                           5  \n",
      "5                   1       0                           1  \n",
      "6                   4  20,000                           5  \n",
      "7                   2       0                           2  \n",
      "8                   2       0                           2  \n",
      "9                   3  15,000                           3  \n",
      "10                  1       0                           1  \n",
      "11                  3       0                           4  \n",
      "12                  3 150,000                           4  \n",
      "13                  4  10,000                           5  \n"
     ]
    }
   ],
   "source": [
    "print(Final)"
   ]
  },
  {
   "cell_type": "code",
   "execution_count": 74,
   "id": "63c311bc-2d50-457c-9643-585e8a583094",
   "metadata": {},
   "outputs": [],
   "source": [
    "# Group by ID and First Name, summing the Cost\n",
    "\n",
    "TotalProjCost = Final.groupby([\"ID\", \"First Name\"], as_index=False)[\"Cost\"].sum()\n"
   ]
  },
  {
   "cell_type": "code",
   "execution_count": 75,
   "id": "5e328b21-f488-412d-9239-11af8131a3af",
   "metadata": {},
   "outputs": [],
   "source": [
    "# Rename the column for clarity\n",
    "TotalProjCost.rename(columns={\"Cost\": \"Total Cost\"}, inplace=True)\n"
   ]
  },
  {
   "cell_type": "code",
   "execution_count": 76,
   "id": "34ba288f-c182-47bf-86df-45ddb3d9fedf",
   "metadata": {
    "scrolled": true
   },
   "outputs": [
    {
     "name": "stdout",
     "output_type": "stream",
     "text": [
      "     ID  First Name  Total Cost\n",
      "0  A001    Mr. John   5,212,312\n",
      "1  A002  Mrs. Alice   2,680,000\n",
      "2  A003     Mr. Tom   5,150,000\n",
      "3  A004   Mrs. Nina   9,500,000\n",
      "4  A005    Mrs. Amy   3,850,500\n"
     ]
    }
   ],
   "source": [
    "print(TotalProjCost)\n"
   ]
  },
  {
   "cell_type": "code",
   "execution_count": null,
   "id": "fadbdd3b-cedf-46b6-ae40-43851cf22003",
   "metadata": {},
   "outputs": [],
   "source": [
    "# task 10---Print all the employee details whose city name contains the letter “o” in it."
   ]
  },
  {
   "cell_type": "code",
   "execution_count": null,
   "id": "ea1cce57-fb66-4d4a-ae8f-37ee9e8ce9d7",
   "metadata": {},
   "outputs": [],
   "source": [
    "# Print all the employee details whose city name contains the letter “o” in it."
   ]
  },
  {
   "cell_type": "code",
   "execution_count": 90,
   "id": "6aef6801-6556-4002-a9e1-0abcd4407236",
   "metadata": {},
   "outputs": [],
   "source": [
    "employees_with_o = Final[Final[\"City\"].str.contains(\"o\", case=False, na=False)]"
   ]
  },
  {
   "cell_type": "code",
   "execution_count": 91,
   "id": "db7dfe03-674d-4dca-a8b1-258ad8292e14",
   "metadata": {},
   "outputs": [
    {
     "data": {
      "text/html": [
       "<div>\n",
       "<style scoped>\n",
       "    .dataframe tbody tr th:only-of-type {\n",
       "        vertical-align: middle;\n",
       "    }\n",
       "\n",
       "    .dataframe tbody tr th {\n",
       "        vertical-align: top;\n",
       "    }\n",
       "\n",
       "    .dataframe thead th {\n",
       "        text-align: right;\n",
       "    }\n",
       "</style>\n",
       "<table border=\"1\" class=\"dataframe\">\n",
       "  <thead>\n",
       "    <tr style=\"text-align: right;\">\n",
       "      <th></th>\n",
       "      <th>ID</th>\n",
       "      <th>Project</th>\n",
       "      <th>Cost</th>\n",
       "      <th>Status</th>\n",
       "      <th>City</th>\n",
       "      <th>Age</th>\n",
       "      <th>First Name</th>\n",
       "      <th>Last Name</th>\n",
       "      <th>Designation level</th>\n",
       "      <th>Bonus</th>\n",
       "      <th>Designation level Promoted</th>\n",
       "    </tr>\n",
       "  </thead>\n",
       "  <tbody>\n",
       "    <tr>\n",
       "      <th>1</th>\n",
       "      <td>A002</td>\n",
       "      <td>Project 2</td>\n",
       "      <td>2,000,000</td>\n",
       "      <td>Ongoing</td>\n",
       "      <td>London</td>\n",
       "      <td>27</td>\n",
       "      <td>Mrs. Alice</td>\n",
       "      <td>Luxumberg</td>\n",
       "      <td>2</td>\n",
       "      <td>0</td>\n",
       "      <td>2</td>\n",
       "    </tr>\n",
       "    <tr>\n",
       "      <th>3</th>\n",
       "      <td>A004</td>\n",
       "      <td>Project 4</td>\n",
       "      <td>5,500,000</td>\n",
       "      <td>Ongoing</td>\n",
       "      <td>Newyork</td>\n",
       "      <td>31</td>\n",
       "      <td>Mrs. Nina</td>\n",
       "      <td>Adgra</td>\n",
       "      <td>3</td>\n",
       "      <td>0</td>\n",
       "      <td>4</td>\n",
       "    </tr>\n",
       "    <tr>\n",
       "      <th>5</th>\n",
       "      <td>A002</td>\n",
       "      <td>Project 6</td>\n",
       "      <td>680,000</td>\n",
       "      <td>Failed</td>\n",
       "      <td>London</td>\n",
       "      <td>27</td>\n",
       "      <td>Mrs. Alice</td>\n",
       "      <td>Luxumberg</td>\n",
       "      <td>1</td>\n",
       "      <td>0</td>\n",
       "      <td>1</td>\n",
       "    </tr>\n",
       "    <tr>\n",
       "      <th>11</th>\n",
       "      <td>A004</td>\n",
       "      <td>Project 12</td>\n",
       "      <td>1,000,000</td>\n",
       "      <td>Ongoing</td>\n",
       "      <td>Newyork</td>\n",
       "      <td>31</td>\n",
       "      <td>Mrs. Nina</td>\n",
       "      <td>Adgra</td>\n",
       "      <td>3</td>\n",
       "      <td>0</td>\n",
       "      <td>4</td>\n",
       "    </tr>\n",
       "    <tr>\n",
       "      <th>12</th>\n",
       "      <td>A004</td>\n",
       "      <td>Project 13</td>\n",
       "      <td>3,000,000</td>\n",
       "      <td>Finished</td>\n",
       "      <td>Newyork</td>\n",
       "      <td>31</td>\n",
       "      <td>Mrs. Nina</td>\n",
       "      <td>Adgra</td>\n",
       "      <td>3</td>\n",
       "      <td>150,000</td>\n",
       "      <td>4</td>\n",
       "    </tr>\n",
       "  </tbody>\n",
       "</table>\n",
       "</div>"
      ],
      "text/plain": [
       "      ID     Project      Cost    Status     City  Age  First Name  Last Name  \\\n",
       "1   A002   Project 2 2,000,000   Ongoing   London   27  Mrs. Alice  Luxumberg   \n",
       "3   A004   Project 4 5,500,000   Ongoing  Newyork   31   Mrs. Nina      Adgra   \n",
       "5   A002   Project 6   680,000    Failed   London   27  Mrs. Alice  Luxumberg   \n",
       "11  A004  Project 12 1,000,000   Ongoing  Newyork   31   Mrs. Nina      Adgra   \n",
       "12  A004  Project 13 3,000,000  Finished  Newyork   31   Mrs. Nina      Adgra   \n",
       "\n",
       "    Designation level   Bonus  Designation level Promoted  \n",
       "1                   2       0                           2  \n",
       "3                   3       0                           4  \n",
       "5                   1       0                           1  \n",
       "11                  3       0                           4  \n",
       "12                  3 150,000                           4  "
      ]
     },
     "execution_count": 91,
     "metadata": {},
     "output_type": "execute_result"
    }
   ],
   "source": [
    "employees_with_o"
   ]
  },
  {
   "cell_type": "code",
   "execution_count": null,
   "id": "81b70962-e33a-4331-b0bb-d3a076f3ced5",
   "metadata": {},
   "outputs": [],
   "source": []
  }
 ],
 "metadata": {
  "kernelspec": {
   "display_name": "Python 3 (ipykernel)",
   "language": "python",
   "name": "python3"
  },
  "language_info": {
   "codemirror_mode": {
    "name": "ipython",
    "version": 3
   },
   "file_extension": ".py",
   "mimetype": "text/x-python",
   "name": "python",
   "nbconvert_exporter": "python",
   "pygments_lexer": "ipython3",
   "version": "3.13.5"
  }
 },
 "nbformat": 4,
 "nbformat_minor": 5
}
